{
 "cells": [
  {
   "cell_type": "code",
   "execution_count": 10,
   "metadata": {
    "collapsed": true
   },
   "outputs": [],
   "source": [
    "%matplotlib inline\n",
    "import numpy as np\n",
    "import scipy.stats as stats\n",
    "from matplotlib import pyplot as plt"
   ]
  },
  {
   "cell_type": "code",
   "execution_count": 11,
   "metadata": {
    "collapsed": false
   },
   "outputs": [],
   "source": [
    "# Offline changepoint detection\n",
    "def changepoint_detection(data, hazard_function, distribution):\n",
    "    length = len(data)\n",
    "    H = hazard_function(np.arange(length + 1))\n",
    "    Pr = np.zeros((length + 1, length + 1))    # length + 1 b/c 0 is for priors\n",
    "    # Pr[r, t] = P(r_t=r, x_1:t)\n",
    "\n",
    "    Pr[0, 0] = 1\n",
    "    for t, x in enumerate(data):\n",
    "        t += 1    # t=0 is for priors stuff. First data point is @ t=1\n",
    "        predprobs = distribution.pdf(x)\n",
    "        Pr[1:t + 1, t] = Pr[:t, t - 1] * predprobs * (1 - H[:t])\n",
    "        Pr[0, t] = np.sum(Pr[:t, t - 1] * predprobs * H[:t])\n",
    "        Pr[:, t] /= np.sum(Pr[:, t])    # normalize probabilities\n",
    "        distribution.update(x)\n",
    "    return Pr"
   ]
  },
  {
   "cell_type": "code",
   "execution_count": 12,
   "metadata": {
    "collapsed": false
   },
   "outputs": [],
   "source": [
    "class BayesianChangepointDetection(object):\n",
    "    def __init__(self, hazard, distribution):\n",
    "        self.hazard = hazard\n",
    "        self.distribution = distribution\n",
    "        self.time = 0\n",
    "    \n",
    "        self.Pr = np.ones(1)\n",
    "    \n",
    "    def step(self, x):\n",
    "        self.time += 1\n",
    "\n",
    "        H = self.hazard(np.arange(self.time))\n",
    "        old = self.Pr\n",
    "        self.Pr = np.zeros(self.time + 1)   # +1 because 0 <= r <= time\n",
    "        \n",
    "        predprob = self.distribution.pdf(x)\n",
    "        self.distribution.update(x)\n",
    "        \n",
    "        self.Pr[1:] = old * predprob * (1 - H)\n",
    "        self.Pr[0] = np.sum(old * predprob * H)\n",
    "        self.Pr /= np.sum(self.Pr)\n",
    "        \n",
    "        return self.Pr"
   ]
  },
  {
   "cell_type": "code",
   "execution_count": 13,
   "metadata": {
    "collapsed": true
   },
   "outputs": [],
   "source": [
    "class Distribution(object):\n",
    "    \n",
    "    def __init__(self):\n",
    "        self.kappa = 0\n",
    "        self.mu = 0\n",
    "        \n",
    "    def pdf(self, data):\n",
    "        return 1\n",
    "    \n",
    "    def update(self, data):\n",
    "        kappa_update = self.kappa + 1.\n",
    "        mu_update = (self.kappa * self.mu + data) / (self.kappa + 1)\n",
    "        \n",
    "        self.kappa = kappa_update\n",
    "        self.mu = mu_update"
   ]
  },
  {
   "cell_type": "code",
   "execution_count": 5,
   "metadata": {
    "collapsed": false
   },
   "outputs": [],
   "source": [
    "class Gaussian(Distribution):\n",
    "    \"\"\" Adapted from\n",
    "        http://engineering.richrelevance.com/\n",
    "            bayesian-analysis-of-normal-distributions-with-python/,\n",
    "        http://www.cs.ubc.ca/~murphyk/Papers/bayesGauss.pdf\n",
    "    \"\"\"\n",
    "    \n",
    "    def __init__(self, kappa, mu, alpha, beta):\n",
    "        # Certainty about mean\n",
    "        self.kappa = kappa\n",
    "        # Estimation of Mean\n",
    "        self.mu = mu\n",
    "        # Estimation of Variance\n",
    "        # Paramater for Gamma Distribution\n",
    "        self.alpha = alpha\n",
    "        # Sum of Squares\n",
    "        self.beta = beta\n",
    "    \n",
    "    def pdf(self, data):\n",
    "        return stats.norm.pdf(x = data,\n",
    "                              loc = self.mu,\n",
    "                              scale = np.sqrt(self.beta / self.kappa))\n",
    "    \n",
    "    def update(self, data):\n",
    "        # Update Confidence\n",
    "        kappa_update = self.kappa + 1.\n",
    "        # Update Mean\n",
    "        mu_update = (self.kappa * self.mu + data) / (self.kappa + 1)\n",
    "        # Update Variance\n",
    "        alpha_update = self.alpha + .5\n",
    "        beta_update = self.beta + (self.kappa * (data - self.mu)**2) / (2. * (self.kappa + 1.))\n",
    "        \n",
    "        self.kappa = kappa_update\n",
    "        self.mu = mu_update\n",
    "        self.alpha = alpha_update\n",
    "        self.beta = beta_update"
   ]
  },
  {
   "cell_type": "code",
   "execution_count": 18,
   "metadata": {
    "collapsed": false
   },
   "outputs": [],
   "source": [
    "class StudentT(Distribution):\n",
    "    \"\"\" Taken from https://github.com/hildensia/bayesian_changepoint_detection\n",
    "        Adapted to remove concatenation and standardize style\n",
    "    \"\"\"\n",
    "    def __init__(self, kappa, mu, alpha, beta):\n",
    "        self.kappa = kappa\n",
    "        self.mu = mu\n",
    "        self.alpha = alpha\n",
    "        self.beta = beta\n",
    "\n",
    "    def pdf(self, data):\n",
    "        return stats.t.pdf(x=data, \n",
    "                           df=2*self.alpha,\n",
    "                           loc=self.mu,\n",
    "                           scale=np.sqrt(self.beta * (self.kappa+1) / (self.alpha *\n",
    "                               self.kappa)))\n",
    "\n",
    "    def update(self, data):\n",
    "        kappa_update = self.kappa + 1.\n",
    "        mu_update = (self.kappa * self.mu + data) / (self.kappa + 1)\n",
    "        alpha_update = self.alpha + 0.5\n",
    "        beta_update = self.beta + (self.kappa * (data - self.mu)**2) / (2. * (self.kappa + 1.))\n",
    "         \n",
    "        self.kappa = kappa_update\n",
    "        self.mu = mu_update\n",
    "        self.alpha = alpha_update\n",
    "        self.beta = beta_update"
   ]
  },
  {
   "cell_type": "code",
   "execution_count": 25,
   "metadata": {
    "collapsed": false
   },
   "outputs": [
    {
     "data": {
      "image/png": "[encoded data removed]",
      "text/plain": [
       "<matplotlib.figure.Figure at 0x109072bd0>"
      ]
     },
     "metadata": {},
     "output_type": "display_data"
    },
    {
     "data": {
      "image/png": "[encoded data removed]",
      "text/plain": [
       "<matplotlib.figure.Figure at 0x10783a350>"
      ]
     },
     "metadata": {},
     "output_type": "display_data"
    }
   ],
   "source": [
    "#Run Detection on Gaussian Distribution\n",
    "data = [0] * 100 + [1] * 100\n",
    "def hazard(t):\n",
    "    # given run length, return Pr(run is over)\n",
    "    p = 0.6\n",
    "    return p * (1-p) ** t\n",
    "Pr = changepoint_detection(data, hazard, Gaussian(0.1, 0.1, 1, 0))\n",
    "\n",
    "plt.plot([Pr[:, t].argmax() for t in range(len(data))])\n",
    "plt.xlabel(\"Time\")\n",
    "plt.ylabel(\"Run length\")\n",
    "plt.show()\n",
    "\n",
    "plt.plot([Pr[0, t] for t in range(len(data))])\n",
    "plt.xlabel(\"time\")\n",
    "plt.ylabel(\"Probability of a change-point\")\n",
    "plt.show()"
   ]
  },
  {
   "cell_type": "code",
   "execution_count": 27,
   "metadata": {
    "collapsed": false
   },
   "outputs": [
    {
     "data": {
      "image/png": "[encoded data removed]",
      "text/plain": [
       "<matplotlib.figure.Figure at 0x10843b190>"
      ]
     },
     "metadata": {},
     "output_type": "display_data"
    },
    {
     "data": {
      "image/png": "[encoded data removed]",
      "text/plain": [
       "<matplotlib.figure.Figure at 0x1083faf90>"
      ]
     },
     "metadata": {},
     "output_type": "display_data"
    }
   ],
   "source": [
    "data = [0] * 100 + [1] * 100\n",
    "def hazard(t):\n",
    "    # given run length, return Pr(run is over)\n",
    "    p = 0.6\n",
    "    return p * (1-p) ** t\n",
    "\n",
    "detector = BayesianChangepointDetection(hazard, Gaussian(0.1, 0.1, 1, 0))\n",
    "\n",
    "Pr = [detector.step(x) for x in data]\n",
    "\n",
    "plt.plot([pr.argmax() for pr in Pr])\n",
    "plt.xlabel(\"Time\")\n",
    "plt.ylabel(\"Run length\")\n",
    "plt.show()\n",
    "\n",
    "plt.plot([pr[0] for pr in Pr])\n",
    "plt.xlabel(\"time\")\n",
    "plt.ylabel(\"Probability of a change-point\")\n",
    "plt.show()"
   ]
  },
  {
   "cell_type": "code",
   "execution_count": 28,
   "metadata": {
    "collapsed": false
   },
   "outputs": [
    {
     "data": {
      "image/png": "[encoded data removed]",
      "text/plain": [
       "<matplotlib.figure.Figure at 0x1084285d0>"
      ]
     },
     "metadata": {},
     "output_type": "display_data"
    },
    {
     "data": {
      "image/png": "[encoded data removed]",
      "text/plain": [
       "<matplotlib.figure.Figure at 0x1081cbe10>"
      ]
     },
     "metadata": {},
     "output_type": "display_data"
    }
   ],
   "source": [
    "data = [0] * 100 + [1] * 100\n",
    "def hazard(t):\n",
    "    # given run length, return Pr(run is over)\n",
    "    p = 0.6\n",
    "    return p * (1-p) ** t\n",
    "Pr = changepoint_detection(data, hazard, StudentT(0.1, 0.1, 1, 0))\n",
    "\n",
    "plt.plot([Pr[:, t].argmax() for t in range(len(data))])\n",
    "plt.xlabel(\"Time\")\n",
    "plt.ylabel(\"Run length\")\n",
    "plt.show()\n",
    "\n",
    "plt.plot([Pr[0, t] for t in range(len(data))])\n",
    "plt.xlabel(\"time\")\n",
    "plt.ylabel(\"Probability of a change-point\")\n",
    "plt.show()"
   ]
  },
  {
   "cell_type": "code",
   "execution_count": 29,
   "metadata": {
    "collapsed": false
   },
   "outputs": [
    {
     "data": {
      "image/png": "[encoded data removed]",
      "text/plain": [
       "<matplotlib.figure.Figure at 0x108745190>"
      ]
     },
     "metadata": {},
     "output_type": "display_data"
    },
    {
     "data": {
      "image/png": "[encoded data removed]",
      "text/plain": [
       "<matplotlib.figure.Figure at 0x107eb0f90>"
      ]
     },
     "metadata": {},
     "output_type": "display_data"
    }
   ],
   "source": [
    "data = [0] * 100 + [1] * 100\n",
    "def hazard(t):\n",
    "    # given run length, return Pr(run is over)\n",
    "    p = 0.6\n",
    "    return p * (1-p) ** t\n",
    "\n",
    "detector = BayesianChangepointDetection(hazard, StudentT(0.1, 0.1, 1, 0))\n",
    "\n",
    "Pr = [detector.step(x) for x in data]\n",
    "\n",
    "plt.plot([pr.argmax() for pr in Pr])\n",
    "plt.xlabel(\"Time\")\n",
    "plt.ylabel(\"Run length\")\n",
    "plt.show()\n",
    "\n",
    "plt.plot([pr[0] for pr in Pr])\n",
    "plt.xlabel(\"time\")\n",
    "plt.ylabel(\"Probability of a change-point\")\n",
    "plt.show()"
   ]
  }
 ],
 "metadata": {
  "kernelspec": {
   "display_name": "Python 2",
   "language": "python",
   "name": "python2"
  },
  "language_info": {
   "codemirror_mode": {
    "name": "ipython",
    "version": 2
   },
   "file_extension": ".py",
   "mimetype": "text/x-python",
   "name": "python",
   "nbconvert_exporter": "python",
   "pygments_lexer": "ipython2",
   "version": "2.7.10"
  }
 },
 "nbformat": 4,
 "nbformat_minor": 0
}
